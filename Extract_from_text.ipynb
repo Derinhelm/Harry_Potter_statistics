{
 "cells": [
  {
   "cell_type": "code",
   "execution_count": 1,
   "metadata": {},
   "outputs": [],
   "source": [
    "itog_dict = []"
   ]
  },
  {
   "cell_type": "code",
   "execution_count": null,
   "metadata": {},
   "outputs": [],
   "source": []
  },
  {
   "cell_type": "code",
   "execution_count": 7,
   "metadata": {},
   "outputs": [],
   "source": [
    "import pymorphy2\n",
    "\n",
    "\n",
    "def fun(x):\n",
    "    return -x[1], x[0]\n",
    "\n",
    "morph = pymorphy2.MorphAnalyzer()"
   ]
  },
  {
   "cell_type": "code",
   "execution_count": 3,
   "metadata": {},
   "outputs": [],
   "source": [
    "def analizator(morph, namein, nameout):\n",
    "    f = open(namein, 'r')\n",
    "    s = f.read().rstrip().split()\n",
    "    diction = {}\n",
    "    for i in range(len(s)):\n",
    "        newstr = \"\"\n",
    "        for j in range(len(s[i])):\n",
    "            if s[i][j].isalpha():\n",
    "                newstr += s[i][j] # для анализатора большие и маленькие буквы разницы не имеют,\n",
    "                #он все буквы делает маленькими\n",
    "            elif (s[i][j] == '-') and j != 0 and j != len(s[i]) - 1: #дефис\n",
    "                newstr += s[i][j]\n",
    "        s = s[:i] + [newstr] + s[i + 1:]\n",
    "        if len(newstr) != 0:\n",
    "            norm = morph.parse(newstr)[0].normal_form\n",
    "            if norm in diction.keys():\n",
    "                diction[norm] += 1\n",
    "            else:\n",
    "                diction[norm] = 1\n",
    "\n",
    "\n",
    "    f.close()\n",
    "    fout = open(nameout, 'w')\n",
    "    for (key, value) in sorted(diction.items(), key = fun):\n",
    "        fout.write(str(key) + ' ' + str(value) + '\\n')\n",
    "    fout.close()\n",
    "    return diction"
   ]
  },
  {
   "cell_type": "code",
   "execution_count": 4,
   "metadata": {},
   "outputs": [
    {
     "name": "stdout",
     "output_type": "stream",
     "text": [
      "garri_potter_i_filosofskiy_kamen_(rosmen).txt res-1.txt\n",
      "garri_potter_i_taynaya_komnata_(rosmen).txt res-2.txt\n",
      "garri_potter_i_uznik_azkabana_(rosmen).txt res-3.txt\n",
      "garri_potter_i_kubok_ognya_(rosmen).txt res-4.txt\n",
      "garri_potter_i_orden_feniksa_(rosmen).txt res-5.txt\n",
      "garri_potter_i_prints_polukrovka_(rosmen).txt res-6.txt\n",
      "garri_potter_i_daryi_smerti_(rosmen).txt res-7.txt\n"
     ]
    }
   ],
   "source": [
    "names = ['garri_potter_i_filosofskiy_kamen_(rosmen).txt',\n",
    "         'garri_potter_i_taynaya_komnata_(rosmen).txt',\n",
    "         'garri_potter_i_uznik_azkabana_(rosmen).txt',\n",
    "        'garri_potter_i_kubok_ognya_(rosmen).txt',\n",
    "         'garri_potter_i_orden_feniksa_(rosmen).txt',\n",
    "         'garri_potter_i_prints_polukrovka_(rosmen).txt',\n",
    "         'garri_potter_i_daryi_smerti_(rosmen).txt']\n",
    "s = 'res-'\n",
    "for i in range(len(names)):\n",
    "    cur_dict = analizator(morph, names[i], s + str(i + 1) + '.txt')\n",
    "    itog_dict.append(cur_dict)\n",
    "    print(names[i], s + str(i + 1) + '.txt')"
   ]
  },
  {
   "cell_type": "code",
   "execution_count": 6,
   "metadata": {},
   "outputs": [],
   "source": [
    "import pickle\n",
    "with open('data.pickle', 'wb') as f:\n",
    "    pickle.dump(itog_dict, f)"
   ]
  },
  {
   "cell_type": "code",
   "execution_count": 7,
   "metadata": {},
   "outputs": [],
   "source": [
    "with open('data-copy.pickle', 'wb') as f:\n",
    "    pickle.dump(itog_dict, f)"
   ]
  },
  {
   "cell_type": "code",
   "execution_count": 1,
   "metadata": {},
   "outputs": [],
   "source": [
    "import pickle\n",
    "with open('data.pickle', 'rb') as f:\n",
    "    data_new1 = pickle.load(f)\n"
   ]
  },
  {
   "cell_type": "code",
   "execution_count": 4,
   "metadata": {},
   "outputs": [],
   "source": []
  },
  {
   "cell_type": "code",
   "execution_count": null,
   "metadata": {},
   "outputs": [],
   "source": [
    "снегт когтеврать снегга хагридь пуффендовать уизлить невилла дурслить дурсли макгона-галл мак-гонагалл\n",
    "вернона драка?? верноном северуса букле/букля квиррел-ть дамблдору дамблдора дамблдор волан-де-мор-т\n",
    "малфа  флитвика минерв альбуса альбусы снегге джинний"
   ]
  },
  {
   "cell_type": "code",
   "execution_count": null,
   "metadata": {},
   "outputs": [],
   "source": [
    "невилла-невилл"
   ]
  },
  {
   "cell_type": "code",
   "execution_count": 13,
   "metadata": {},
   "outputs": [],
   "source": [
    "import pandas as pd"
   ]
  },
  {
   "cell_type": "code",
   "execution_count": 14,
   "metadata": {},
   "outputs": [],
   "source": [
    "for i in range(len(itog_dict)):\n",
    "    df = pd.DataFrame.from_dict(itog_dict[i], orient = 'index', columns = ['count'])\n",
    "    df.to_csv('r-' + str(i + 1))"
   ]
  },
  {
   "cell_type": "code",
   "execution_count": null,
   "metadata": {},
   "outputs": [],
   "source": []
  }
 ],
 "metadata": {
  "kernelspec": {
   "display_name": "Python 3",
   "language": "python",
   "name": "python3"
  },
  "language_info": {
   "codemirror_mode": {
    "name": "ipython",
    "version": 3
   },
   "file_extension": ".py",
   "mimetype": "text/x-python",
   "name": "python",
   "nbconvert_exporter": "python",
   "pygments_lexer": "ipython3",
   "version": "3.5.2"
  }
 },
 "nbformat": 4,
 "nbformat_minor": 1
}
